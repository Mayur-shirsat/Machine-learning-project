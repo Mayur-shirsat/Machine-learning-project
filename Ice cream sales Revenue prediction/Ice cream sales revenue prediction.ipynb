{
 "cells": [
  {
   "cell_type": "code",
   "execution_count": 1,
   "id": "d0da8ce1-3c9f-4f98-944f-14dbde4362ac",
   "metadata": {},
   "outputs": [],
   "source": [
    "import pandas as pd\n",
    "import numpy as np\n",
    "import seaborn as sns\n",
    "import matplotlib.pyplot as plt"
   ]
  },
  {
   "cell_type": "code",
   "execution_count": 2,
   "id": "e828100c-c15b-4a6c-af7a-3d7ff2d0e418",
   "metadata": {},
   "outputs": [],
   "source": [
    "data = pd.read_csv(\"IceCreamData.csv\")"
   ]
  },
  {
   "cell_type": "code",
   "execution_count": 3,
   "id": "a2e6a99e-757a-4150-b867-fe420802df16",
   "metadata": {},
   "outputs": [
    {
     "data": {
      "text/html": [
       "<div>\n",
       "<style scoped>\n",
       "    .dataframe tbody tr th:only-of-type {\n",
       "        vertical-align: middle;\n",
       "    }\n",
       "\n",
       "    .dataframe tbody tr th {\n",
       "        vertical-align: top;\n",
       "    }\n",
       "\n",
       "    .dataframe thead th {\n",
       "        text-align: right;\n",
       "    }\n",
       "</style>\n",
       "<table border=\"1\" class=\"dataframe\">\n",
       "  <thead>\n",
       "    <tr style=\"text-align: right;\">\n",
       "      <th></th>\n",
       "      <th>Temperature</th>\n",
       "      <th>Revenue</th>\n",
       "    </tr>\n",
       "  </thead>\n",
       "  <tbody>\n",
       "    <tr>\n",
       "      <th>0</th>\n",
       "      <td>24.566884</td>\n",
       "      <td>534.799028</td>\n",
       "    </tr>\n",
       "    <tr>\n",
       "      <th>1</th>\n",
       "      <td>26.005191</td>\n",
       "      <td>625.190122</td>\n",
       "    </tr>\n",
       "    <tr>\n",
       "      <th>2</th>\n",
       "      <td>27.790554</td>\n",
       "      <td>660.632289</td>\n",
       "    </tr>\n",
       "    <tr>\n",
       "      <th>3</th>\n",
       "      <td>20.595335</td>\n",
       "      <td>487.706960</td>\n",
       "    </tr>\n",
       "    <tr>\n",
       "      <th>4</th>\n",
       "      <td>11.503498</td>\n",
       "      <td>316.240194</td>\n",
       "    </tr>\n",
       "  </tbody>\n",
       "</table>\n",
       "</div>"
      ],
      "text/plain": [
       "   Temperature     Revenue\n",
       "0    24.566884  534.799028\n",
       "1    26.005191  625.190122\n",
       "2    27.790554  660.632289\n",
       "3    20.595335  487.706960\n",
       "4    11.503498  316.240194"
      ]
     },
     "execution_count": 3,
     "metadata": {},
     "output_type": "execute_result"
    }
   ],
   "source": [
    "data.head()"
   ]
  },
  {
   "cell_type": "code",
   "execution_count": 4,
   "id": "9057fc65-5535-4412-89c9-9ae2a8ce72db",
   "metadata": {},
   "outputs": [
    {
     "name": "stdout",
     "output_type": "stream",
     "text": [
      "<class 'pandas.core.frame.DataFrame'>\n",
      "RangeIndex: 500 entries, 0 to 499\n",
      "Data columns (total 2 columns):\n",
      " #   Column       Non-Null Count  Dtype  \n",
      "---  ------       --------------  -----  \n",
      " 0   Temperature  500 non-null    float64\n",
      " 1   Revenue      500 non-null    float64\n",
      "dtypes: float64(2)\n",
      "memory usage: 7.9 KB\n"
     ]
    }
   ],
   "source": [
    "data.info()"
   ]
  },
  {
   "cell_type": "code",
   "execution_count": 6,
   "id": "baa58493-bc0b-45b4-ad81-fe93a698b080",
   "metadata": {},
   "outputs": [
    {
     "data": {
      "text/html": [
       "<div>\n",
       "<style scoped>\n",
       "    .dataframe tbody tr th:only-of-type {\n",
       "        vertical-align: middle;\n",
       "    }\n",
       "\n",
       "    .dataframe tbody tr th {\n",
       "        vertical-align: top;\n",
       "    }\n",
       "\n",
       "    .dataframe thead th {\n",
       "        text-align: right;\n",
       "    }\n",
       "</style>\n",
       "<table border=\"1\" class=\"dataframe\">\n",
       "  <thead>\n",
       "    <tr style=\"text-align: right;\">\n",
       "      <th></th>\n",
       "      <th>count</th>\n",
       "      <th>mean</th>\n",
       "      <th>std</th>\n",
       "      <th>min</th>\n",
       "      <th>25%</th>\n",
       "      <th>50%</th>\n",
       "      <th>75%</th>\n",
       "      <th>max</th>\n",
       "    </tr>\n",
       "  </thead>\n",
       "  <tbody>\n",
       "    <tr>\n",
       "      <th>Temperature</th>\n",
       "      <td>500.0</td>\n",
       "      <td>22.232225</td>\n",
       "      <td>8.096388</td>\n",
       "      <td>0.0</td>\n",
       "      <td>17.122258</td>\n",
       "      <td>22.392791</td>\n",
       "      <td>27.740674</td>\n",
       "      <td>45.0</td>\n",
       "    </tr>\n",
       "    <tr>\n",
       "      <th>Revenue</th>\n",
       "      <td>500.0</td>\n",
       "      <td>521.570777</td>\n",
       "      <td>175.404751</td>\n",
       "      <td>10.0</td>\n",
       "      <td>405.558681</td>\n",
       "      <td>529.368565</td>\n",
       "      <td>642.257922</td>\n",
       "      <td>1000.0</td>\n",
       "    </tr>\n",
       "  </tbody>\n",
       "</table>\n",
       "</div>"
      ],
      "text/plain": [
       "             count        mean         std   min         25%         50%  \\\n",
       "Temperature  500.0   22.232225    8.096388   0.0   17.122258   22.392791   \n",
       "Revenue      500.0  521.570777  175.404751  10.0  405.558681  529.368565   \n",
       "\n",
       "                    75%     max  \n",
       "Temperature   27.740674    45.0  \n",
       "Revenue      642.257922  1000.0  "
      ]
     },
     "execution_count": 6,
     "metadata": {},
     "output_type": "execute_result"
    }
   ],
   "source": [
    "data.describe().T"
   ]
  },
  {
   "cell_type": "code",
   "execution_count": 9,
   "id": "4f8a1ccb-2d5b-4c11-bafd-852355a43180",
   "metadata": {},
   "outputs": [
    {
     "data": {
      "text/plain": [
       "Index(['Temperature', 'Revenue'], dtype='object')"
      ]
     },
     "execution_count": 9,
     "metadata": {},
     "output_type": "execute_result"
    }
   ],
   "source": [
    "data.columns"
   ]
  },
  {
   "cell_type": "code",
   "execution_count": 10,
   "id": "6a32cc56-9b6c-4c46-9312-b1c3e2fba2f7",
   "metadata": {},
   "outputs": [],
   "source": [
    "x = data[\"Temperature\"]"
   ]
  },
  {
   "cell_type": "code",
   "execution_count": 11,
   "id": "82613afc-1c82-46c2-bc91-f619fd3b2d2f",
   "metadata": {},
   "outputs": [],
   "source": [
    "y = data[\"Revenue\"] "
   ]
  },
  {
   "cell_type": "code",
   "execution_count": 12,
   "id": "1d10205f-9cd4-4143-be30-7c689045c71d",
   "metadata": {},
   "outputs": [],
   "source": [
    "from sklearn.model_selection import train_test_split\n",
    "x_train, x_test, y_train, y_test = train_test_split(x,y, test_size = 0.7, random_state = 23)"
   ]
  },
  {
   "cell_type": "code",
   "execution_count": 14,
   "id": "502a5ecc-f319-44b7-9821-5e0dc8244cff",
   "metadata": {},
   "outputs": [
    {
     "data": {
      "text/plain": [
       "((150,), (350,), (150,), (350,))"
      ]
     },
     "execution_count": 14,
     "metadata": {},
     "output_type": "execute_result"
    }
   ],
   "source": [
    "#Finding shape of the train, test\n",
    "x_train.shape, x_test.shape, y_train.shape, y_test.shape"
   ]
  },
  {
   "cell_type": "code",
   "execution_count": 17,
   "id": "68d85cd4-2443-47ee-84e1-7f2623a0e799",
   "metadata": {},
   "outputs": [],
   "source": [
    "#model selection\n",
    "from sklearn.linear_model import LinearRegression\n",
    "model = LinearRegression()"
   ]
  },
  {
   "cell_type": "code",
   "execution_count": 21,
   "id": "5c5c9715-16fc-4a18-9fa0-983064a9057c",
   "metadata": {},
   "outputs": [
    {
     "ename": "ValueError",
     "evalue": "Expected 2D array, got 1D array instead:\narray=[26.59505405 27.28106383 24.77867495 33.7442087  17.6568394  22.15258869\n 18.88371892 22.18951589 32.89309211  9.90029326 21.6967827   8.75600403\n 25.42216523 23.38514451 33.55141872 35.33120818 18.4750345  30.02820743\n 21.89743267  9.65149525 20.22642046 21.00704512 30.83398474 26.12213765\n  4.23646497 22.22512228 23.95931178 21.6018917  23.98464085 13.36431317\n 19.98286779 38.14633277 13.11245224 21.70395288 25.49968375 26.25074588\n 23.82492237 28.78743552 27.72143999 19.06659113 32.46497067 12.30161489\n  8.58694814 11.50349764 30.08108934 18.77535808 26.33705248 23.76143592\n 22.52674945 28.72991474 26.87495294 27.11773949 18.57811922 17.58837197\n 25.19142452 31.47122432 17.51707397 26.07840506 18.95252067  8.75555394\n 26.00519115  3.66466958 24.47243216 18.90848865 10.24505765 24.58590837\n 19.11365281 24.54855656 21.4881766  22.27489926 35.03345633 24.72715441\n 27.88711086 23.9638795   7.74528596  6.35245937 18.14895234 28.29868977\n 28.86558895 18.43998163 12.68842965 19.84924077 28.70127646 27.12941186\n 32.40924246 28.79315859 39.76412854  8.79095281 23.40725697  5.30750735\n 24.56688442 18.70847606 14.93150577 25.99599345 22.61931574 25.11606991\n 24.77819856 33.23567229 37.05754246 19.05928653 22.48279827 18.97830025\n 11.05909651 35.35976059 27.32232277 17.65850231 15.75395072 18.48314099\n 15.02911176 19.61787546 12.08460133  6.5425144  22.28455032 33.51453981\n 26.96421749 11.18775682 27.51664567 24.34910395 36.56911506 15.10292191\n 35.09479555 29.4637861  37.99863474 20.47359412 15.21456942 16.99788893\n 20.93460766 31.57998903 22.39797728 24.48490862 16.55794796 31.22898848\n 18.81182403 21.02639814 39.8593964  13.70777988 15.91667782 19.75470829\n 30.42779184 17.04973761 24.96044566 38.66820248 29.91930886 15.23119012\n 16.70385182 17.13279538 26.36052065 23.0034888   9.40347921 29.03573877].\nReshape your data either using array.reshape(-1, 1) if your data has a single feature or array.reshape(1, -1) if it contains a single sample.",
     "output_type": "error",
     "traceback": [
      "\u001b[1;31m---------------------------------------------------------------------------\u001b[0m",
      "\u001b[1;31mValueError\u001b[0m                                Traceback (most recent call last)",
      "Cell \u001b[1;32mIn[21], line 3\u001b[0m\n\u001b[0;32m      1\u001b[0m x_train\u001b[38;5;241m.\u001b[39mto_numpy()\u001b[38;5;241m.\u001b[39mreshape(\u001b[38;5;241m-\u001b[39m\u001b[38;5;241m1\u001b[39m,\u001b[38;5;241m1\u001b[39m)\n\u001b[0;32m      2\u001b[0m y_train\u001b[38;5;241m.\u001b[39mto_numpy()\u001b[38;5;241m.\u001b[39mreshape(\u001b[38;5;241m-\u001b[39m\u001b[38;5;241m1\u001b[39m,\u001b[38;5;241m1\u001b[39m)\n\u001b[1;32m----> 3\u001b[0m \u001b[43mmodel\u001b[49m\u001b[38;5;241;43m.\u001b[39;49m\u001b[43mfit\u001b[49m\u001b[43m(\u001b[49m\u001b[43mx_train\u001b[49m\u001b[43m,\u001b[49m\u001b[43m \u001b[49m\u001b[43my_train\u001b[49m\u001b[43m)\u001b[49m\n",
      "File \u001b[1;32m~\\AppData\\Local\\Programs\\Python\\Python312\\Lib\\site-packages\\sklearn\\base.py:1152\u001b[0m, in \u001b[0;36m_fit_context.<locals>.decorator.<locals>.wrapper\u001b[1;34m(estimator, *args, **kwargs)\u001b[0m\n\u001b[0;32m   1145\u001b[0m     estimator\u001b[38;5;241m.\u001b[39m_validate_params()\n\u001b[0;32m   1147\u001b[0m \u001b[38;5;28;01mwith\u001b[39;00m config_context(\n\u001b[0;32m   1148\u001b[0m     skip_parameter_validation\u001b[38;5;241m=\u001b[39m(\n\u001b[0;32m   1149\u001b[0m         prefer_skip_nested_validation \u001b[38;5;129;01mor\u001b[39;00m global_skip_validation\n\u001b[0;32m   1150\u001b[0m     )\n\u001b[0;32m   1151\u001b[0m ):\n\u001b[1;32m-> 1152\u001b[0m     \u001b[38;5;28;01mreturn\u001b[39;00m \u001b[43mfit_method\u001b[49m\u001b[43m(\u001b[49m\u001b[43mestimator\u001b[49m\u001b[43m,\u001b[49m\u001b[43m \u001b[49m\u001b[38;5;241;43m*\u001b[39;49m\u001b[43margs\u001b[49m\u001b[43m,\u001b[49m\u001b[43m \u001b[49m\u001b[38;5;241;43m*\u001b[39;49m\u001b[38;5;241;43m*\u001b[39;49m\u001b[43mkwargs\u001b[49m\u001b[43m)\u001b[49m\n",
      "File \u001b[1;32m~\\AppData\\Local\\Programs\\Python\\Python312\\Lib\\site-packages\\sklearn\\linear_model\\_base.py:678\u001b[0m, in \u001b[0;36mLinearRegression.fit\u001b[1;34m(self, X, y, sample_weight)\u001b[0m\n\u001b[0;32m    674\u001b[0m n_jobs_ \u001b[38;5;241m=\u001b[39m \u001b[38;5;28mself\u001b[39m\u001b[38;5;241m.\u001b[39mn_jobs\n\u001b[0;32m    676\u001b[0m accept_sparse \u001b[38;5;241m=\u001b[39m \u001b[38;5;28;01mFalse\u001b[39;00m \u001b[38;5;28;01mif\u001b[39;00m \u001b[38;5;28mself\u001b[39m\u001b[38;5;241m.\u001b[39mpositive \u001b[38;5;28;01melse\u001b[39;00m [\u001b[38;5;124m\"\u001b[39m\u001b[38;5;124mcsr\u001b[39m\u001b[38;5;124m\"\u001b[39m, \u001b[38;5;124m\"\u001b[39m\u001b[38;5;124mcsc\u001b[39m\u001b[38;5;124m\"\u001b[39m, \u001b[38;5;124m\"\u001b[39m\u001b[38;5;124mcoo\u001b[39m\u001b[38;5;124m\"\u001b[39m]\n\u001b[1;32m--> 678\u001b[0m X, y \u001b[38;5;241m=\u001b[39m \u001b[38;5;28;43mself\u001b[39;49m\u001b[38;5;241;43m.\u001b[39;49m\u001b[43m_validate_data\u001b[49m\u001b[43m(\u001b[49m\n\u001b[0;32m    679\u001b[0m \u001b[43m    \u001b[49m\u001b[43mX\u001b[49m\u001b[43m,\u001b[49m\u001b[43m \u001b[49m\u001b[43my\u001b[49m\u001b[43m,\u001b[49m\u001b[43m \u001b[49m\u001b[43maccept_sparse\u001b[49m\u001b[38;5;241;43m=\u001b[39;49m\u001b[43maccept_sparse\u001b[49m\u001b[43m,\u001b[49m\u001b[43m \u001b[49m\u001b[43my_numeric\u001b[49m\u001b[38;5;241;43m=\u001b[39;49m\u001b[38;5;28;43;01mTrue\u001b[39;49;00m\u001b[43m,\u001b[49m\u001b[43m \u001b[49m\u001b[43mmulti_output\u001b[49m\u001b[38;5;241;43m=\u001b[39;49m\u001b[38;5;28;43;01mTrue\u001b[39;49;00m\n\u001b[0;32m    680\u001b[0m \u001b[43m\u001b[49m\u001b[43m)\u001b[49m\n\u001b[0;32m    682\u001b[0m has_sw \u001b[38;5;241m=\u001b[39m sample_weight \u001b[38;5;129;01mis\u001b[39;00m \u001b[38;5;129;01mnot\u001b[39;00m \u001b[38;5;28;01mNone\u001b[39;00m\n\u001b[0;32m    683\u001b[0m \u001b[38;5;28;01mif\u001b[39;00m has_sw:\n",
      "File \u001b[1;32m~\\AppData\\Local\\Programs\\Python\\Python312\\Lib\\site-packages\\sklearn\\base.py:622\u001b[0m, in \u001b[0;36mBaseEstimator._validate_data\u001b[1;34m(self, X, y, reset, validate_separately, cast_to_ndarray, **check_params)\u001b[0m\n\u001b[0;32m    620\u001b[0m         y \u001b[38;5;241m=\u001b[39m check_array(y, input_name\u001b[38;5;241m=\u001b[39m\u001b[38;5;124m\"\u001b[39m\u001b[38;5;124my\u001b[39m\u001b[38;5;124m\"\u001b[39m, \u001b[38;5;241m*\u001b[39m\u001b[38;5;241m*\u001b[39mcheck_y_params)\n\u001b[0;32m    621\u001b[0m     \u001b[38;5;28;01melse\u001b[39;00m:\n\u001b[1;32m--> 622\u001b[0m         X, y \u001b[38;5;241m=\u001b[39m \u001b[43mcheck_X_y\u001b[49m\u001b[43m(\u001b[49m\u001b[43mX\u001b[49m\u001b[43m,\u001b[49m\u001b[43m \u001b[49m\u001b[43my\u001b[49m\u001b[43m,\u001b[49m\u001b[43m \u001b[49m\u001b[38;5;241;43m*\u001b[39;49m\u001b[38;5;241;43m*\u001b[39;49m\u001b[43mcheck_params\u001b[49m\u001b[43m)\u001b[49m\n\u001b[0;32m    623\u001b[0m     out \u001b[38;5;241m=\u001b[39m X, y\n\u001b[0;32m    625\u001b[0m \u001b[38;5;28;01mif\u001b[39;00m \u001b[38;5;129;01mnot\u001b[39;00m no_val_X \u001b[38;5;129;01mand\u001b[39;00m check_params\u001b[38;5;241m.\u001b[39mget(\u001b[38;5;124m\"\u001b[39m\u001b[38;5;124mensure_2d\u001b[39m\u001b[38;5;124m\"\u001b[39m, \u001b[38;5;28;01mTrue\u001b[39;00m):\n",
      "File \u001b[1;32m~\\AppData\\Local\\Programs\\Python\\Python312\\Lib\\site-packages\\sklearn\\utils\\validation.py:1146\u001b[0m, in \u001b[0;36mcheck_X_y\u001b[1;34m(X, y, accept_sparse, accept_large_sparse, dtype, order, copy, force_all_finite, ensure_2d, allow_nd, multi_output, ensure_min_samples, ensure_min_features, y_numeric, estimator)\u001b[0m\n\u001b[0;32m   1141\u001b[0m         estimator_name \u001b[38;5;241m=\u001b[39m _check_estimator_name(estimator)\n\u001b[0;32m   1142\u001b[0m     \u001b[38;5;28;01mraise\u001b[39;00m \u001b[38;5;167;01mValueError\u001b[39;00m(\n\u001b[0;32m   1143\u001b[0m         \u001b[38;5;124mf\u001b[39m\u001b[38;5;124m\"\u001b[39m\u001b[38;5;132;01m{\u001b[39;00mestimator_name\u001b[38;5;132;01m}\u001b[39;00m\u001b[38;5;124m requires y to be passed, but the target y is None\u001b[39m\u001b[38;5;124m\"\u001b[39m\n\u001b[0;32m   1144\u001b[0m     )\n\u001b[1;32m-> 1146\u001b[0m X \u001b[38;5;241m=\u001b[39m \u001b[43mcheck_array\u001b[49m\u001b[43m(\u001b[49m\n\u001b[0;32m   1147\u001b[0m \u001b[43m    \u001b[49m\u001b[43mX\u001b[49m\u001b[43m,\u001b[49m\n\u001b[0;32m   1148\u001b[0m \u001b[43m    \u001b[49m\u001b[43maccept_sparse\u001b[49m\u001b[38;5;241;43m=\u001b[39;49m\u001b[43maccept_sparse\u001b[49m\u001b[43m,\u001b[49m\n\u001b[0;32m   1149\u001b[0m \u001b[43m    \u001b[49m\u001b[43maccept_large_sparse\u001b[49m\u001b[38;5;241;43m=\u001b[39;49m\u001b[43maccept_large_sparse\u001b[49m\u001b[43m,\u001b[49m\n\u001b[0;32m   1150\u001b[0m \u001b[43m    \u001b[49m\u001b[43mdtype\u001b[49m\u001b[38;5;241;43m=\u001b[39;49m\u001b[43mdtype\u001b[49m\u001b[43m,\u001b[49m\n\u001b[0;32m   1151\u001b[0m \u001b[43m    \u001b[49m\u001b[43morder\u001b[49m\u001b[38;5;241;43m=\u001b[39;49m\u001b[43morder\u001b[49m\u001b[43m,\u001b[49m\n\u001b[0;32m   1152\u001b[0m \u001b[43m    \u001b[49m\u001b[43mcopy\u001b[49m\u001b[38;5;241;43m=\u001b[39;49m\u001b[43mcopy\u001b[49m\u001b[43m,\u001b[49m\n\u001b[0;32m   1153\u001b[0m \u001b[43m    \u001b[49m\u001b[43mforce_all_finite\u001b[49m\u001b[38;5;241;43m=\u001b[39;49m\u001b[43mforce_all_finite\u001b[49m\u001b[43m,\u001b[49m\n\u001b[0;32m   1154\u001b[0m \u001b[43m    \u001b[49m\u001b[43mensure_2d\u001b[49m\u001b[38;5;241;43m=\u001b[39;49m\u001b[43mensure_2d\u001b[49m\u001b[43m,\u001b[49m\n\u001b[0;32m   1155\u001b[0m \u001b[43m    \u001b[49m\u001b[43mallow_nd\u001b[49m\u001b[38;5;241;43m=\u001b[39;49m\u001b[43mallow_nd\u001b[49m\u001b[43m,\u001b[49m\n\u001b[0;32m   1156\u001b[0m \u001b[43m    \u001b[49m\u001b[43mensure_min_samples\u001b[49m\u001b[38;5;241;43m=\u001b[39;49m\u001b[43mensure_min_samples\u001b[49m\u001b[43m,\u001b[49m\n\u001b[0;32m   1157\u001b[0m \u001b[43m    \u001b[49m\u001b[43mensure_min_features\u001b[49m\u001b[38;5;241;43m=\u001b[39;49m\u001b[43mensure_min_features\u001b[49m\u001b[43m,\u001b[49m\n\u001b[0;32m   1158\u001b[0m \u001b[43m    \u001b[49m\u001b[43mestimator\u001b[49m\u001b[38;5;241;43m=\u001b[39;49m\u001b[43mestimator\u001b[49m\u001b[43m,\u001b[49m\n\u001b[0;32m   1159\u001b[0m \u001b[43m    \u001b[49m\u001b[43minput_name\u001b[49m\u001b[38;5;241;43m=\u001b[39;49m\u001b[38;5;124;43m\"\u001b[39;49m\u001b[38;5;124;43mX\u001b[39;49m\u001b[38;5;124;43m\"\u001b[39;49m\u001b[43m,\u001b[49m\n\u001b[0;32m   1160\u001b[0m \u001b[43m\u001b[49m\u001b[43m)\u001b[49m\n\u001b[0;32m   1162\u001b[0m y \u001b[38;5;241m=\u001b[39m _check_y(y, multi_output\u001b[38;5;241m=\u001b[39mmulti_output, y_numeric\u001b[38;5;241m=\u001b[39my_numeric, estimator\u001b[38;5;241m=\u001b[39mestimator)\n\u001b[0;32m   1164\u001b[0m check_consistent_length(X, y)\n",
      "File \u001b[1;32m~\\AppData\\Local\\Programs\\Python\\Python312\\Lib\\site-packages\\sklearn\\utils\\validation.py:938\u001b[0m, in \u001b[0;36mcheck_array\u001b[1;34m(array, accept_sparse, accept_large_sparse, dtype, order, copy, force_all_finite, ensure_2d, allow_nd, ensure_min_samples, ensure_min_features, estimator, input_name)\u001b[0m\n\u001b[0;32m    936\u001b[0m     \u001b[38;5;66;03m# If input is 1D raise error\u001b[39;00m\n\u001b[0;32m    937\u001b[0m     \u001b[38;5;28;01mif\u001b[39;00m array\u001b[38;5;241m.\u001b[39mndim \u001b[38;5;241m==\u001b[39m \u001b[38;5;241m1\u001b[39m:\n\u001b[1;32m--> 938\u001b[0m         \u001b[38;5;28;01mraise\u001b[39;00m \u001b[38;5;167;01mValueError\u001b[39;00m(\n\u001b[0;32m    939\u001b[0m             \u001b[38;5;124m\"\u001b[39m\u001b[38;5;124mExpected 2D array, got 1D array instead:\u001b[39m\u001b[38;5;130;01m\\n\u001b[39;00m\u001b[38;5;124marray=\u001b[39m\u001b[38;5;132;01m{}\u001b[39;00m\u001b[38;5;124m.\u001b[39m\u001b[38;5;130;01m\\n\u001b[39;00m\u001b[38;5;124m\"\u001b[39m\n\u001b[0;32m    940\u001b[0m             \u001b[38;5;124m\"\u001b[39m\u001b[38;5;124mReshape your data either using array.reshape(-1, 1) if \u001b[39m\u001b[38;5;124m\"\u001b[39m\n\u001b[0;32m    941\u001b[0m             \u001b[38;5;124m\"\u001b[39m\u001b[38;5;124myour data has a single feature or array.reshape(1, -1) \u001b[39m\u001b[38;5;124m\"\u001b[39m\n\u001b[0;32m    942\u001b[0m             \u001b[38;5;124m\"\u001b[39m\u001b[38;5;124mif it contains a single sample.\u001b[39m\u001b[38;5;124m\"\u001b[39m\u001b[38;5;241m.\u001b[39mformat(array)\n\u001b[0;32m    943\u001b[0m         )\n\u001b[0;32m    945\u001b[0m \u001b[38;5;28;01mif\u001b[39;00m dtype_numeric \u001b[38;5;129;01mand\u001b[39;00m \u001b[38;5;28mhasattr\u001b[39m(array\u001b[38;5;241m.\u001b[39mdtype, \u001b[38;5;124m\"\u001b[39m\u001b[38;5;124mkind\u001b[39m\u001b[38;5;124m\"\u001b[39m) \u001b[38;5;129;01mand\u001b[39;00m array\u001b[38;5;241m.\u001b[39mdtype\u001b[38;5;241m.\u001b[39mkind \u001b[38;5;129;01min\u001b[39;00m \u001b[38;5;124m\"\u001b[39m\u001b[38;5;124mUSV\u001b[39m\u001b[38;5;124m\"\u001b[39m:\n\u001b[0;32m    946\u001b[0m     \u001b[38;5;28;01mraise\u001b[39;00m \u001b[38;5;167;01mValueError\u001b[39;00m(\n\u001b[0;32m    947\u001b[0m         \u001b[38;5;124m\"\u001b[39m\u001b[38;5;124mdtype=\u001b[39m\u001b[38;5;124m'\u001b[39m\u001b[38;5;124mnumeric\u001b[39m\u001b[38;5;124m'\u001b[39m\u001b[38;5;124m is not compatible with arrays of bytes/strings.\u001b[39m\u001b[38;5;124m\"\u001b[39m\n\u001b[0;32m    948\u001b[0m         \u001b[38;5;124m\"\u001b[39m\u001b[38;5;124mConvert your data to numeric values explicitly instead.\u001b[39m\u001b[38;5;124m\"\u001b[39m\n\u001b[0;32m    949\u001b[0m     )\n",
      "\u001b[1;31mValueError\u001b[0m: Expected 2D array, got 1D array instead:\narray=[26.59505405 27.28106383 24.77867495 33.7442087  17.6568394  22.15258869\n 18.88371892 22.18951589 32.89309211  9.90029326 21.6967827   8.75600403\n 25.42216523 23.38514451 33.55141872 35.33120818 18.4750345  30.02820743\n 21.89743267  9.65149525 20.22642046 21.00704512 30.83398474 26.12213765\n  4.23646497 22.22512228 23.95931178 21.6018917  23.98464085 13.36431317\n 19.98286779 38.14633277 13.11245224 21.70395288 25.49968375 26.25074588\n 23.82492237 28.78743552 27.72143999 19.06659113 32.46497067 12.30161489\n  8.58694814 11.50349764 30.08108934 18.77535808 26.33705248 23.76143592\n 22.52674945 28.72991474 26.87495294 27.11773949 18.57811922 17.58837197\n 25.19142452 31.47122432 17.51707397 26.07840506 18.95252067  8.75555394\n 26.00519115  3.66466958 24.47243216 18.90848865 10.24505765 24.58590837\n 19.11365281 24.54855656 21.4881766  22.27489926 35.03345633 24.72715441\n 27.88711086 23.9638795   7.74528596  6.35245937 18.14895234 28.29868977\n 28.86558895 18.43998163 12.68842965 19.84924077 28.70127646 27.12941186\n 32.40924246 28.79315859 39.76412854  8.79095281 23.40725697  5.30750735\n 24.56688442 18.70847606 14.93150577 25.99599345 22.61931574 25.11606991\n 24.77819856 33.23567229 37.05754246 19.05928653 22.48279827 18.97830025\n 11.05909651 35.35976059 27.32232277 17.65850231 15.75395072 18.48314099\n 15.02911176 19.61787546 12.08460133  6.5425144  22.28455032 33.51453981\n 26.96421749 11.18775682 27.51664567 24.34910395 36.56911506 15.10292191\n 35.09479555 29.4637861  37.99863474 20.47359412 15.21456942 16.99788893\n 20.93460766 31.57998903 22.39797728 24.48490862 16.55794796 31.22898848\n 18.81182403 21.02639814 39.8593964  13.70777988 15.91667782 19.75470829\n 30.42779184 17.04973761 24.96044566 38.66820248 29.91930886 15.23119012\n 16.70385182 17.13279538 26.36052065 23.0034888   9.40347921 29.03573877].\nReshape your data either using array.reshape(-1, 1) if your data has a single feature or array.reshape(1, -1) if it contains a single sample."
     ]
    }
   ],
   "source": [
    "x_train.to_numpy().reshape(-1,1)\n",
    "y_train.to_numpy().reshape(-1,1)\n",
    "model.fit(x_train, y_train)"
   ]
  },
  {
   "cell_type": "code",
   "execution_count": 22,
   "id": "1f6ceeb0-0df3-4128-b87c-df4c85621abe",
   "metadata": {},
   "outputs": [
    {
     "data": {
      "text/html": [
       "<style>#sk-container-id-1 {color: black;}#sk-container-id-1 pre{padding: 0;}#sk-container-id-1 div.sk-toggleable {background-color: white;}#sk-container-id-1 label.sk-toggleable__label {cursor: pointer;display: block;width: 100%;margin-bottom: 0;padding: 0.3em;box-sizing: border-box;text-align: center;}#sk-container-id-1 label.sk-toggleable__label-arrow:before {content: \"▸\";float: left;margin-right: 0.25em;color: #696969;}#sk-container-id-1 label.sk-toggleable__label-arrow:hover:before {color: black;}#sk-container-id-1 div.sk-estimator:hover label.sk-toggleable__label-arrow:before {color: black;}#sk-container-id-1 div.sk-toggleable__content {max-height: 0;max-width: 0;overflow: hidden;text-align: left;background-color: #f0f8ff;}#sk-container-id-1 div.sk-toggleable__content pre {margin: 0.2em;color: black;border-radius: 0.25em;background-color: #f0f8ff;}#sk-container-id-1 input.sk-toggleable__control:checked~div.sk-toggleable__content {max-height: 200px;max-width: 100%;overflow: auto;}#sk-container-id-1 input.sk-toggleable__control:checked~label.sk-toggleable__label-arrow:before {content: \"▾\";}#sk-container-id-1 div.sk-estimator input.sk-toggleable__control:checked~label.sk-toggleable__label {background-color: #d4ebff;}#sk-container-id-1 div.sk-label input.sk-toggleable__control:checked~label.sk-toggleable__label {background-color: #d4ebff;}#sk-container-id-1 input.sk-hidden--visually {border: 0;clip: rect(1px 1px 1px 1px);clip: rect(1px, 1px, 1px, 1px);height: 1px;margin: -1px;overflow: hidden;padding: 0;position: absolute;width: 1px;}#sk-container-id-1 div.sk-estimator {font-family: monospace;background-color: #f0f8ff;border: 1px dotted black;border-radius: 0.25em;box-sizing: border-box;margin-bottom: 0.5em;}#sk-container-id-1 div.sk-estimator:hover {background-color: #d4ebff;}#sk-container-id-1 div.sk-parallel-item::after {content: \"\";width: 100%;border-bottom: 1px solid gray;flex-grow: 1;}#sk-container-id-1 div.sk-label:hover label.sk-toggleable__label {background-color: #d4ebff;}#sk-container-id-1 div.sk-serial::before {content: \"\";position: absolute;border-left: 1px solid gray;box-sizing: border-box;top: 0;bottom: 0;left: 50%;z-index: 0;}#sk-container-id-1 div.sk-serial {display: flex;flex-direction: column;align-items: center;background-color: white;padding-right: 0.2em;padding-left: 0.2em;position: relative;}#sk-container-id-1 div.sk-item {position: relative;z-index: 1;}#sk-container-id-1 div.sk-parallel {display: flex;align-items: stretch;justify-content: center;background-color: white;position: relative;}#sk-container-id-1 div.sk-item::before, #sk-container-id-1 div.sk-parallel-item::before {content: \"\";position: absolute;border-left: 1px solid gray;box-sizing: border-box;top: 0;bottom: 0;left: 50%;z-index: -1;}#sk-container-id-1 div.sk-parallel-item {display: flex;flex-direction: column;z-index: 1;position: relative;background-color: white;}#sk-container-id-1 div.sk-parallel-item:first-child::after {align-self: flex-end;width: 50%;}#sk-container-id-1 div.sk-parallel-item:last-child::after {align-self: flex-start;width: 50%;}#sk-container-id-1 div.sk-parallel-item:only-child::after {width: 0;}#sk-container-id-1 div.sk-dashed-wrapped {border: 1px dashed gray;margin: 0 0.4em 0.5em 0.4em;box-sizing: border-box;padding-bottom: 0.4em;background-color: white;}#sk-container-id-1 div.sk-label label {font-family: monospace;font-weight: bold;display: inline-block;line-height: 1.2em;}#sk-container-id-1 div.sk-label-container {text-align: center;}#sk-container-id-1 div.sk-container {/* jupyter's `normalize.less` sets `[hidden] { display: none; }` but bootstrap.min.css set `[hidden] { display: none !important; }` so we also need the `!important` here to be able to override the default hidden behavior on the sphinx rendered scikit-learn.org. See: https://github.com/scikit-learn/scikit-learn/issues/21755 */display: inline-block !important;position: relative;}#sk-container-id-1 div.sk-text-repr-fallback {display: none;}</style><div id=\"sk-container-id-1\" class=\"sk-top-container\"><div class=\"sk-text-repr-fallback\"><pre>LinearRegression()</pre><b>In a Jupyter environment, please rerun this cell to show the HTML representation or trust the notebook. <br />On GitHub, the HTML representation is unable to render, please try loading this page with nbviewer.org.</b></div><div class=\"sk-container\" hidden><div class=\"sk-item\"><div class=\"sk-estimator sk-toggleable\"><input class=\"sk-toggleable__control sk-hidden--visually\" id=\"sk-estimator-id-1\" type=\"checkbox\" checked><label for=\"sk-estimator-id-1\" class=\"sk-toggleable__label sk-toggleable__label-arrow\">LinearRegression</label><div class=\"sk-toggleable__content\"><pre>LinearRegression()</pre></div></div></div></div></div>"
      ],
      "text/plain": [
       "LinearRegression()"
      ]
     },
     "execution_count": 22,
     "metadata": {},
     "output_type": "execute_result"
    }
   ],
   "source": [
    "import numpy as np\n",
    "\n",
    "# Reshape x_train\n",
    "x_train = np.array([26.59505405, 27.28106383, 24.77867495, 33.7442087, 17.6568394, 22.15258869,\n",
    "                    18.88371892, 22.18951589, 32.89309211, 9.90029326, 21.6967827, 8.75600403,\n",
    "                    25.42216523, 23.38514451, 33.55141872, 35.33120818, 18.4750345, 30.02820743,\n",
    "                    21.89743267, 9.65149525, 20.22642046, 21.00704512, 30.83398474, 26.12213765,\n",
    "                    4.23646497, 22.22512228, 23.95931178, 21.6018917, 23.98464085, 13.36431317,\n",
    "                    19.98286779, 38.14633277, 13.11245224, 21.70395288, 25.49968375, 26.25074588,\n",
    "                    23.82492237, 28.78743552, 27.72143999, 19.06659113, 32.46497067, 12.30161489,\n",
    "                    8.58694814, 11.50349764, 30.08108934, 18.77535808, 26.33705248, 23.76143592,\n",
    "                    22.52674945, 28.72991474, 26.87495294, 27.11773949, 18.57811922, 17.58837197,\n",
    "                    25.19142452, 31.47122432, 17.51707397, 26.07840506, 18.95252067, 8.75555394,\n",
    "                    26.00519115, 3.66466958, 24.47243216, 18.90848865, 10.24505765, 24.58590837,\n",
    "                    19.11365281, 24.54855656, 21.4881766, 22.27489926, 35.03345633, 24.72715441,\n",
    "                    27.88711086, 23.9638795, 7.74528596, 6.35245937, 18.14895234, 28.29868977,\n",
    "                    28.86558895, 18.43998163, 12.68842965, 19.84924077, 28.70127646, 27.12941186,\n",
    "                    32.40924246, 28.79315859, 39.76412854, 8.79095281, 23.40725697, 5.30750735,\n",
    "                    24.56688442, 18.70847606, 14.93150577, 25.99599345, 22.61931574, 25.11606991,\n",
    "                    24.77819856, 33.23567229, 37.05754246, 19.05928653, 22.48279827, 18.97830025,\n",
    "                    11.05909651, 35.35976059, 27.32232277, 17.65850231, 15.75395072, 18.48314099,\n",
    "                    15.02911176, 19.61787546, 12.08460133, 6.5425144, 22.28455032, 33.51453981,\n",
    "                    26.96421749, 11.18775682, 27.51664567, 24.34910395, 36.56911506, 15.10292191,\n",
    "                    35.09479555, 29.4637861, 37.99863474, 20.47359412, 15.21456942, 16.99788893,\n",
    "                    20.93460766, 31.57998903, 22.39797728, 24.48490862, 16.55794796, 31.22898848,\n",
    "                    18.81182403, 21.02639814, 39.8593964, 13.70777988, 15.91667782, 19.75470829,\n",
    "                    30.42779184, 17.04973761, 24.96044566, 38.66820248, 29.91930886, 15.23119012,\n",
    "                    16.70385182, 17.13279538, 26.36052065, 23.0034888, 9.40347921, 29.03573877])\n",
    "\n",
    "# Reshape x_train to be a 2D array with one feature per sample\n",
    "x_train = x_train.reshape(-1, 1)\n",
    "\n",
    "# Ensure y_train is a 1D array\n",
    "y_train = np.array([26.59505405, 27.28106383, 24.77867495, 33.7442087, 17.6568394, 22.15258869,\n",
    "                    18.88371892, 22.18951589, 32.89309211, 9.90029326, 21.6967827, 8.75600403,\n",
    "                    25.42216523, 23.38514451, 33.55141872, 35.33120818, 18.4750345, 30.02820743,\n",
    "                    21.89743267, 9.65149525, 20.22642046, 21.00704512, 30.83398474, 26.12213765,\n",
    "                    4.23646497, 22.22512228, 23.95931178, 21.6018917, 23.98464085, 13.36431317,\n",
    "                    19.98286779, 38.14633277, 13.11245224, 21.70395288, 25.49968375, 26.25074588,\n",
    "                    23.82492237, 28.78743552, 27.72143999, 19.06659113, 32.46497067, 12.30161489,\n",
    "                    8.58694814, 11.50349764, 30.08108934, 18.77535808, 26.33705248, 23.76143592,\n",
    "                    22.52674945, 28.72991474, 26.87495294, 27.11773949, 18.57811922, 17.58837197,\n",
    "                    25.19142452, 31.47122432, 17.51707397, 26.07840506, 18.95252067, 8.75555394,\n",
    "                    26.00519115, 3.66466958, 24.47243216, 18.90848865, 10.24505765, 24.58590837,\n",
    "                    19.11365281, 24.54855656, 21.4881766, 22.27489926, 35.03345633, 24.72715441,\n",
    "                    27.88711086, 23.9638795, 7.74528596, 6.35245937, 18.14895234, 28.29868977,\n",
    "                    28.86558895, 18.43998163, 12.68842965, 19.84924077, 28.70127646, 27.12941186,\n",
    "                    32.40924246, 28.79315859, 39.76412854, 8.79095281, 23.40725697, 5.30750735,\n",
    "                    24.56688442, 18.70847606, 14.93150577, 25.99599345, 22.61931574, 25.11606991,\n",
    "                    24.77819856, 33.23567229, 37.05754246, 19.05928653, 22.48279827, 18.97830025,\n",
    "                    11.05909651, 35.35976059, 27.32232277, 17.65850231, 15.75395072, 18.48314099,\n",
    "                    15.02911176, 19.61787546, 12.08460133, 6.5425144, 22.28455032, 33.51453981,\n",
    "                    26.96421749, 11.18775682, 27.51664567, 24.34910395, 36.56911506, 15.10292191,\n",
    "                    35.09479555, 29.4637861, 37.99863474, 20.47359412, 15.21456942, 16.99788893,\n",
    "                    20.93460766, 31.57998903, 22.39797728, 24.48490862, 16.55794796, 31.22898848,\n",
    "                    18.81182403, 21.02639814, 39.8593964, 13.70777988, 15.91667782, 19.75470829,\n",
    "                    30.42779184, 17.04973761, 24.96044566, 38.66820248, 29.91930886, 15.23119012,\n",
    "                    16.70385182, 17.13279538, 26.36052065, 23.0034888, 9.40347921, 29.03573877])\n",
    "  # your target values here\n",
    "\n",
    "# Fit the model\n",
    "model.fit(x_train, y_train)\n"
   ]
  },
  {
   "cell_type": "code",
   "execution_count": 23,
   "id": "4257f85c-1d59-4660-9dbb-b2860b3a1f77",
   "metadata": {},
   "outputs": [
    {
     "data": {
      "text/plain": [
       "3.552713678800501e-15"
      ]
     },
     "execution_count": 23,
     "metadata": {},
     "output_type": "execute_result"
    }
   ],
   "source": [
    "model.intercept_"
   ]
  },
  {
   "cell_type": "code",
   "execution_count": 24,
   "id": "e83db935-816d-44ab-9705-eb37c8bf956d",
   "metadata": {},
   "outputs": [
    {
     "data": {
      "text/plain": [
       "array([1.])"
      ]
     },
     "execution_count": 24,
     "metadata": {},
     "output_type": "execute_result"
    }
   ],
   "source": [
    "model.coef_"
   ]
  },
  {
   "cell_type": "code",
   "execution_count": 26,
   "id": "238e4b26-a68c-45f2-a6c2-9ed78904bf30",
   "metadata": {},
   "outputs": [],
   "source": [
    "# Ensure x_test is a 2D array by reshaping\n",
    "x_test = x_test.to_numpy().reshape(-1, 1)\n",
    "\n",
    "# Predict the values\n",
    "y_pred = model.predict(x_test)"
   ]
  },
  {
   "cell_type": "code",
   "execution_count": 27,
   "id": "655a0469-7800-4946-a118-7b6405fdae79",
   "metadata": {},
   "outputs": [],
   "source": [
    "from sklearn.metrics import mean_absolute_error, mean_absolute_percentage_error, mean_squared_error"
   ]
  },
  {
   "cell_type": "code",
   "execution_count": 28,
   "id": "6616ee94-22f0-4c51-b319-0a04c5a65d66",
   "metadata": {},
   "outputs": [
    {
     "data": {
      "text/plain": [
       "498.0579574307429"
      ]
     },
     "execution_count": 28,
     "metadata": {},
     "output_type": "execute_result"
    }
   ],
   "source": [
    "mean_absolute_error(y_test, y_pred)"
   ]
  },
  {
   "cell_type": "code",
   "execution_count": 29,
   "id": "01961f02-4eba-4300-95f8-2bab419b1991",
   "metadata": {},
   "outputs": [
    {
     "data": {
      "text/plain": [
       "0.9581956625938246"
      ]
     },
     "execution_count": 29,
     "metadata": {},
     "output_type": "execute_result"
    }
   ],
   "source": [
    "mean_absolute_percentage_error(y_test, y_pred)"
   ]
  },
  {
   "cell_type": "code",
   "execution_count": 31,
   "id": "e6bd5185-1774-4e62-89ec-8ac73304d00b",
   "metadata": {},
   "outputs": [
    {
     "data": {
      "text/plain": [
       "276623.8527344564"
      ]
     },
     "execution_count": 31,
     "metadata": {},
     "output_type": "execute_result"
    }
   ],
   "source": [
    "mean_squared_error(y_test, y_pred)"
   ]
  },
  {
   "cell_type": "code",
   "execution_count": null,
   "id": "a4b53b97-de5f-48d9-8bc3-222cd6a9f3bb",
   "metadata": {},
   "outputs": [],
   "source": []
  }
 ],
 "metadata": {
  "kernelspec": {
   "display_name": "Python 3 (ipykernel)",
   "language": "python",
   "name": "python3"
  },
  "language_info": {
   "codemirror_mode": {
    "name": "ipython",
    "version": 3
   },
   "file_extension": ".py",
   "mimetype": "text/x-python",
   "name": "python",
   "nbconvert_exporter": "python",
   "pygments_lexer": "ipython3",
   "version": "3.12.0"
  }
 },
 "nbformat": 4,
 "nbformat_minor": 5
}
