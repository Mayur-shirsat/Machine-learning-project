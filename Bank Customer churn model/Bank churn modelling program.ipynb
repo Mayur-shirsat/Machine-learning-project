{
 "cells": [
  {
   "cell_type": "markdown",
   "id": "d256a188-a35c-4052-841e-916e531df030",
   "metadata": {},
   "source": [
    "# Bank customer churn model"
   ]
  },
  {
   "cell_type": "code",
   "execution_count": 3,
   "id": "e8b2435b-3620-43ba-8b15-3f09ab518e2f",
   "metadata": {},
   "outputs": [],
   "source": [
    "import pandas as pd\n",
    "import numpy as np\n",
    "import matplotlib.pyplot as plt\n",
    "import seaborn as sns"
   ]
  },
  {
   "cell_type": "code",
   "execution_count": null,
   "id": "e417a74d-3112-4b5e-b6aa-7ceec55be184",
   "metadata": {},
   "outputs": [],
   "source": []
  }
 ],
 "metadata": {
  "kernelspec": {
   "display_name": "Python 3 (ipykernel)",
   "language": "python",
   "name": "python3"
  },
  "language_info": {
   "codemirror_mode": {
    "name": "ipython",
    "version": 3
   },
   "file_extension": ".py",
   "mimetype": "text/x-python",
   "name": "python",
   "nbconvert_exporter": "python",
   "pygments_lexer": "ipython3",
   "version": "3.12.0"
  }
 },
 "nbformat": 4,
 "nbformat_minor": 5
}
